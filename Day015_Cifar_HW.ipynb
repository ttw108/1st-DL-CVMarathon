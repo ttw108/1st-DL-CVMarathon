{
 "cells": [
  {
   "cell_type": "markdown",
   "metadata": {},
   "source": [
    "## 『本次練習內容』\n",
    "#### 運用這幾天所學觀念搭建一個CNN分類器"
   ]
  },
  {
   "cell_type": "markdown",
   "metadata": {},
   "source": [
    "## 『本次練習目的』\n",
    "  #### 熟悉CNN分類器搭建步驟與原理\n",
    "  #### 學員們可以嘗試不同搭法，如使用不同的Maxpooling層，用GlobalAveragePooling取代Flatten等等"
   ]
  },
  {
   "cell_type": "code",
   "execution_count": 1,
   "metadata": {},
   "outputs": [
    {
     "name": "stderr",
     "output_type": "stream",
     "text": [
      "Using TensorFlow backend.\n"
     ]
    }
   ],
   "source": [
    "from keras.models import Sequential\n",
    "from keras.layers import Convolution2D\n",
    "from keras.layers import MaxPooling2D\n",
    "from keras.layers import Flatten\n",
    "from keras.layers import Dense\n",
    "from keras.layers import Dropout\n",
    "from keras.layers import BatchNormalization\n",
    "from keras.datasets import cifar10\n",
    "import numpy as np\n",
    "import tensorflow as tf\n",
    "from sklearn.preprocessing import OneHotEncoder\n"
   ]
  },
  {
   "cell_type": "code",
   "execution_count": 2,
   "metadata": {},
   "outputs": [
    {
     "name": "stdout",
     "output_type": "stream",
     "text": [
      "(50000, 32, 32, 3)\n"
     ]
    }
   ],
   "source": [
    "(x_train, y_train), (x_test, y_test) = cifar10.load_data()\n",
    "\n",
    "print(x_train.shape) #(50000, 32, 32, 3)\n",
    "\n",
    "## Normalize Data\n",
    "def normalize(X_train,X_test):\n",
    "        mean = np.mean(X_train,axis=(0,1,2,3))\n",
    "        std = np.std(X_train, axis=(0, 1, 2, 3))\n",
    "        X_train = (X_train-mean)/(std+1e-7)\n",
    "        X_test = (X_test-mean)/(std+1e-7) \n",
    "        return X_train, X_test,mean,std\n",
    "    \n",
    "    \n",
    "## Normalize Training and Testset    \n",
    "x_train, x_test,mean_train,std_train = normalize(x_train, x_test) "
   ]
  },
  {
   "cell_type": "code",
   "execution_count": 3,
   "metadata": {},
   "outputs": [
    {
     "name": "stderr",
     "output_type": "stream",
     "text": [
      "C:\\ProgramData\\Anaconda3\\lib\\site-packages\\sklearn\\preprocessing\\_encoders.py:415: FutureWarning: The handling of integer data will change in version 0.22. Currently, the categories are determined based on the range [0, max(values)], while in the future they will be determined based on the unique values.\n",
      "If you want the future behaviour and silence this warning, you can specify \"categories='auto'\".\n",
      "In case you used a LabelEncoder before this OneHotEncoder to convert the categories to integers, then you can now use the OneHotEncoder directly.\n",
      "  warnings.warn(msg, FutureWarning)\n"
     ]
    }
   ],
   "source": [
    "## OneHot Label 由(None, 1)-(None, 10)\n",
    "## ex. label=2,變成[0,0,1,0,0,0,0,0,0,0]\n",
    "one_hot=OneHotEncoder()\n",
    "y_train=one_hot.fit_transform(y_train).toarray()\n",
    "y_test=one_hot.transform(y_test).toarray()"
   ]
  },
  {
   "cell_type": "code",
   "execution_count": 4,
   "metadata": {},
   "outputs": [
    {
     "name": "stdout",
     "output_type": "stream",
     "text": [
      "WARNING:tensorflow:From C:\\ProgramData\\Anaconda3\\lib\\site-packages\\keras\\backend\\tensorflow_backend.py:66: The name tf.get_default_graph is deprecated. Please use tf.compat.v1.get_default_graph instead.\n",
      "\n",
      "WARNING:tensorflow:From C:\\ProgramData\\Anaconda3\\lib\\site-packages\\keras\\backend\\tensorflow_backend.py:541: The name tf.placeholder is deprecated. Please use tf.compat.v1.placeholder instead.\n",
      "\n",
      "WARNING:tensorflow:From C:\\ProgramData\\Anaconda3\\lib\\site-packages\\keras\\backend\\tensorflow_backend.py:4432: The name tf.random_uniform is deprecated. Please use tf.random.uniform instead.\n",
      "\n",
      "WARNING:tensorflow:From C:\\ProgramData\\Anaconda3\\lib\\site-packages\\keras\\backend\\tensorflow_backend.py:190: The name tf.get_default_session is deprecated. Please use tf.compat.v1.get_default_session instead.\n",
      "\n",
      "WARNING:tensorflow:From C:\\ProgramData\\Anaconda3\\lib\\site-packages\\keras\\backend\\tensorflow_backend.py:197: The name tf.ConfigProto is deprecated. Please use tf.compat.v1.ConfigProto instead.\n",
      "\n",
      "WARNING:tensorflow:From C:\\ProgramData\\Anaconda3\\lib\\site-packages\\keras\\backend\\tensorflow_backend.py:2041: The name tf.nn.fused_batch_norm is deprecated. Please use tf.compat.v1.nn.fused_batch_norm instead.\n",
      "\n",
      "WARNING:tensorflow:From C:\\ProgramData\\Anaconda3\\lib\\site-packages\\keras\\backend\\tensorflow_backend.py:4267: The name tf.nn.max_pool is deprecated. Please use tf.nn.max_pool2d instead.\n",
      "\n",
      "WARNING:tensorflow:From C:\\ProgramData\\Anaconda3\\lib\\site-packages\\keras\\optimizers.py:793: The name tf.train.Optimizer is deprecated. Please use tf.compat.v1.train.Optimizer instead.\n",
      "\n",
      "WARNING:tensorflow:From C:\\ProgramData\\Anaconda3\\lib\\site-packages\\tensorflow\\python\\ops\\math_grad.py:1250: add_dispatch_support.<locals>.wrapper (from tensorflow.python.ops.array_ops) is deprecated and will be removed in a future version.\n",
      "Instructions for updating:\n",
      "Use tf.where in 2.0, which has the same broadcast rule as np.where\n",
      "Epoch 1/100\n",
      "50000/50000 [==============================] - 7s 133us/step - loss: 1.2760 - acc: 0.5561\n",
      "Epoch 2/100\n",
      "50000/50000 [==============================] - 5s 93us/step - loss: 0.8196 - acc: 0.7102\n",
      "Epoch 3/100\n",
      "50000/50000 [==============================] - 5s 93us/step - loss: 0.5810 - acc: 0.7961\n",
      "Epoch 4/100\n",
      "50000/50000 [==============================] - 5s 93us/step - loss: 0.3915 - acc: 0.8620\n",
      "Epoch 5/100\n",
      "50000/50000 [==============================] - 5s 93us/step - loss: 0.2460 - acc: 0.9162\n",
      "Epoch 6/100\n",
      "50000/50000 [==============================] - 5s 94us/step - loss: 0.1750 - acc: 0.9394\n",
      "Epoch 7/100\n",
      "50000/50000 [==============================] - 5s 94us/step - loss: 0.1308 - acc: 0.9556\n",
      "Epoch 8/100\n",
      "50000/50000 [==============================] - 5s 95us/step - loss: 0.1120 - acc: 0.9608\n",
      "Epoch 9/100\n",
      "50000/50000 [==============================] - 5s 94us/step - loss: 0.1022 - acc: 0.9649\n",
      "Epoch 10/100\n",
      "50000/50000 [==============================] - 5s 96us/step - loss: 0.0879 - acc: 0.9699\n",
      "Epoch 11/100\n",
      "50000/50000 [==============================] - 5s 95us/step - loss: 0.0775 - acc: 0.9730\n",
      "Epoch 12/100\n",
      "50000/50000 [==============================] - 5s 95us/step - loss: 0.0716 - acc: 0.9752\n",
      "Epoch 13/100\n",
      "50000/50000 [==============================] - 5s 94us/step - loss: 0.0726 - acc: 0.9771\n",
      "Epoch 14/100\n",
      "50000/50000 [==============================] - 5s 93us/step - loss: 0.0658 - acc: 0.9776\n",
      "Epoch 15/100\n",
      "50000/50000 [==============================] - 5s 97us/step - loss: 0.0641 - acc: 0.9782\n",
      "Epoch 16/100\n",
      "50000/50000 [==============================] - 5s 102us/step - loss: 0.0499 - acc: 0.9834\n",
      "Epoch 17/100\n",
      "50000/50000 [==============================] - 5s 98us/step - loss: 0.0564 - acc: 0.9807\n",
      "Epoch 18/100\n",
      "50000/50000 [==============================] - 5s 98us/step - loss: 0.0550 - acc: 0.9810\n",
      "Epoch 19/100\n",
      "50000/50000 [==============================] - 5s 94us/step - loss: 0.0471 - acc: 0.9844\n",
      "Epoch 20/100\n",
      "50000/50000 [==============================] - 5s 93us/step - loss: 0.0471 - acc: 0.9839\n",
      "Epoch 21/100\n",
      "50000/50000 [==============================] - 5s 98us/step - loss: 0.0391 - acc: 0.9872\n",
      "Epoch 22/100\n",
      "50000/50000 [==============================] - 5s 99us/step - loss: 0.0445 - acc: 0.9848\n",
      "Epoch 23/100\n",
      "50000/50000 [==============================] - 5s 104us/step - loss: 0.0549 - acc: 0.9821\n",
      "Epoch 24/100\n",
      "50000/50000 [==============================] - 5s 96us/step - loss: 0.0362 - acc: 0.9888\n",
      "Epoch 25/100\n",
      "50000/50000 [==============================] - 5s 93us/step - loss: 0.0395 - acc: 0.9872\n",
      "Epoch 26/100\n",
      "50000/50000 [==============================] - 5s 97us/step - loss: 0.0377 - acc: 0.9876\n",
      "Epoch 27/100\n",
      "50000/50000 [==============================] - 5s 94us/step - loss: 0.0366 - acc: 0.9883\n",
      "Epoch 28/100\n",
      "50000/50000 [==============================] - 5s 93us/step - loss: 0.0338 - acc: 0.9888\n",
      "Epoch 29/100\n",
      "50000/50000 [==============================] - 5s 94us/step - loss: 0.0322 - acc: 0.9894\n",
      "Epoch 30/100\n",
      "50000/50000 [==============================] - 5s 90us/step - loss: 0.0362 - acc: 0.9883\n",
      "Epoch 31/100\n",
      "50000/50000 [==============================] - 5s 97us/step - loss: 0.0378 - acc: 0.9881\n",
      "Epoch 32/100\n",
      "50000/50000 [==============================] - 5s 95us/step - loss: 0.0277 - acc: 0.9900\n",
      "Epoch 33/100\n",
      "50000/50000 [==============================] - 4s 90us/step - loss: 0.0211 - acc: 0.9927\n",
      "Epoch 34/100\n",
      "50000/50000 [==============================] - 5s 91us/step - loss: 0.0260 - acc: 0.9916\n",
      "Epoch 35/100\n",
      "50000/50000 [==============================] - 5s 98us/step - loss: 0.0337 - acc: 0.9890\n",
      "Epoch 36/100\n",
      "50000/50000 [==============================] - 5s 92us/step - loss: 0.0346 - acc: 0.9891\n",
      "Epoch 37/100\n",
      "50000/50000 [==============================] - 5s 97us/step - loss: 0.0250 - acc: 0.9917\n",
      "Epoch 38/100\n",
      "50000/50000 [==============================] - 5s 91us/step - loss: 0.0236 - acc: 0.9924\n",
      "Epoch 39/100\n",
      "50000/50000 [==============================] - 5s 98us/step - loss: 0.0283 - acc: 0.9909\n",
      "Epoch 40/100\n",
      "50000/50000 [==============================] - 5s 97us/step - loss: 0.0234 - acc: 0.9926\n",
      "Epoch 41/100\n",
      "50000/50000 [==============================] - 5s 98us/step - loss: 0.0191 - acc: 0.9941\n",
      "Epoch 42/100\n",
      "50000/50000 [==============================] - 5s 97us/step - loss: 0.0265 - acc: 0.9921\n",
      "Epoch 43/100\n",
      "50000/50000 [==============================] - 5s 94us/step - loss: 0.0314 - acc: 0.9902\n",
      "Epoch 44/100\n",
      "50000/50000 [==============================] - 5s 93us/step - loss: 0.0195 - acc: 0.9934\n",
      "Epoch 45/100\n",
      "50000/50000 [==============================] - 5s 92us/step - loss: 0.0166 - acc: 0.9946\n",
      "Epoch 46/100\n",
      "50000/50000 [==============================] - 5s 94us/step - loss: 0.0219 - acc: 0.9932\n",
      "Epoch 47/100\n",
      "50000/50000 [==============================] - 5s 97us/step - loss: 0.0277 - acc: 0.9907\n",
      "Epoch 48/100\n",
      "50000/50000 [==============================] - 5s 101us/step - loss: 0.0236 - acc: 0.9923\n",
      "Epoch 49/100\n",
      "50000/50000 [==============================] - 5s 93us/step - loss: 0.0188 - acc: 0.9936\n",
      "Epoch 50/100\n",
      "50000/50000 [==============================] - 5s 92us/step - loss: 0.0222 - acc: 0.9929\n",
      "Epoch 51/100\n",
      "50000/50000 [==============================] - 5s 93us/step - loss: 0.0192 - acc: 0.9937\n",
      "Epoch 52/100\n",
      "50000/50000 [==============================] - 5s 93us/step - loss: 0.0168 - acc: 0.9949\n",
      "Epoch 53/100\n",
      "50000/50000 [==============================] - 5s 92us/step - loss: 0.0262 - acc: 0.9917\n",
      "Epoch 54/100\n",
      "50000/50000 [==============================] - 5s 93us/step - loss: 0.0189 - acc: 0.9938\n",
      "Epoch 55/100\n",
      "50000/50000 [==============================] - 5s 94us/step - loss: 0.0163 - acc: 0.9949\n",
      "Epoch 56/100\n",
      "50000/50000 [==============================] - 5s 93us/step - loss: 0.0185 - acc: 0.9944\n",
      "Epoch 57/100\n",
      "50000/50000 [==============================] - 5s 93us/step - loss: 0.0182 - acc: 0.9942\n",
      "Epoch 58/100\n",
      "50000/50000 [==============================] - 5s 96us/step - loss: 0.0184 - acc: 0.9943\n",
      "Epoch 59/100\n",
      "50000/50000 [==============================] - 5s 96us/step - loss: 0.0130 - acc: 0.9958\n",
      "Epoch 60/100\n",
      "50000/50000 [==============================] - 5s 93us/step - loss: 0.0225 - acc: 0.9933\n",
      "Epoch 61/100\n",
      "50000/50000 [==============================] - 5s 93us/step - loss: 0.0241 - acc: 0.9927\n",
      "Epoch 62/100\n"
     ]
    },
    {
     "name": "stdout",
     "output_type": "stream",
     "text": [
      "50000/50000 [==============================] - 5s 92us/step - loss: 0.0174 - acc: 0.9948\n",
      "Epoch 63/100\n",
      "50000/50000 [==============================] - 5s 99us/step - loss: 0.0129 - acc: 0.9957\n",
      "Epoch 64/100\n",
      "50000/50000 [==============================] - 5s 99us/step - loss: 0.0105 - acc: 0.9964\n",
      "Epoch 65/100\n",
      "50000/50000 [==============================] - 5s 96us/step - loss: 0.0158 - acc: 0.9951\n",
      "Epoch 66/100\n",
      "50000/50000 [==============================] - 5s 94us/step - loss: 0.0226 - acc: 0.9929\n",
      "Epoch 67/100\n",
      "50000/50000 [==============================] - 5s 92us/step - loss: 0.0173 - acc: 0.9947\n",
      "Epoch 68/100\n",
      "50000/50000 [==============================] - 5s 91us/step - loss: 0.0163 - acc: 0.9952\n",
      "Epoch 69/100\n",
      "50000/50000 [==============================] - 5s 91us/step - loss: 0.0117 - acc: 0.9965\n",
      "Epoch 70/100\n",
      "50000/50000 [==============================] - 5s 92us/step - loss: 0.0168 - acc: 0.9950\n",
      "Epoch 71/100\n",
      "50000/50000 [==============================] - 5s 94us/step - loss: 0.0176 - acc: 0.9948\n",
      "Epoch 72/100\n",
      "50000/50000 [==============================] - 5s 94us/step - loss: 0.0153 - acc: 0.9948\n",
      "Epoch 73/100\n",
      "50000/50000 [==============================] - 5s 93us/step - loss: 0.0141 - acc: 0.9955\n",
      "Epoch 74/100\n",
      "50000/50000 [==============================] - 5s 93us/step - loss: 0.0141 - acc: 0.9955\n",
      "Epoch 75/100\n",
      "50000/50000 [==============================] - 5s 92us/step - loss: 0.0150 - acc: 0.9953\n",
      "Epoch 76/100\n",
      "50000/50000 [==============================] - 5s 96us/step - loss: 0.0160 - acc: 0.9946\n",
      "Epoch 77/100\n",
      "50000/50000 [==============================] - 5s 101us/step - loss: 0.0120 - acc: 0.9961\n",
      "Epoch 78/100\n",
      "50000/50000 [==============================] - 5s 99us/step - loss: 0.0176 - acc: 0.9945\n",
      "Epoch 79/100\n",
      "50000/50000 [==============================] - 5s 93us/step - loss: 0.0171 - acc: 0.9948\n",
      "Epoch 80/100\n",
      "50000/50000 [==============================] - 5s 95us/step - loss: 0.0104 - acc: 0.9969\n",
      "Epoch 81/100\n",
      "50000/50000 [==============================] - 5s 95us/step - loss: 0.0127 - acc: 0.9960\n",
      "Epoch 82/100\n",
      "50000/50000 [==============================] - 5s 91us/step - loss: 0.0145 - acc: 0.9957\n",
      "Epoch 83/100\n",
      "50000/50000 [==============================] - 5s 93us/step - loss: 0.0153 - acc: 0.9954\n",
      "Epoch 84/100\n",
      "50000/50000 [==============================] - 5s 96us/step - loss: 0.0130 - acc: 0.9960\n",
      "Epoch 85/100\n",
      "50000/50000 [==============================] - 5s 93us/step - loss: 0.0119 - acc: 0.9960\n",
      "Epoch 86/100\n",
      "50000/50000 [==============================] - 5s 94us/step - loss: 0.0083 - acc: 0.9975\n",
      "Epoch 87/100\n",
      "50000/50000 [==============================] - 5s 95us/step - loss: 0.0097 - acc: 0.9969\n",
      "Epoch 88/100\n",
      "50000/50000 [==============================] - 5s 91us/step - loss: 0.0162 - acc: 0.9953\n",
      "Epoch 89/100\n",
      "50000/50000 [==============================] - 5s 91us/step - loss: 0.0108 - acc: 0.9969\n",
      "Epoch 90/100\n",
      "50000/50000 [==============================] - 5s 92us/step - loss: 0.0174 - acc: 0.9946\n",
      "Epoch 91/100\n",
      "50000/50000 [==============================] - 5s 92us/step - loss: 0.0140 - acc: 0.9955\n",
      "Epoch 92/100\n",
      "50000/50000 [==============================] - 5s 92us/step - loss: 0.0121 - acc: 0.9965\n",
      "Epoch 93/100\n",
      "50000/50000 [==============================] - 5s 93us/step - loss: 0.0116 - acc: 0.9965\n",
      "Epoch 94/100\n",
      "50000/50000 [==============================] - 5s 93us/step - loss: 0.0128 - acc: 0.9963\n",
      "Epoch 95/100\n",
      "50000/50000 [==============================] - 5s 96us/step - loss: 0.0082 - acc: 0.9972\n",
      "Epoch 96/100\n",
      "50000/50000 [==============================] - 5s 95us/step - loss: 0.0095 - acc: 0.9974\n",
      "Epoch 97/100\n",
      "50000/50000 [==============================] - 5s 98us/step - loss: 0.0106 - acc: 0.9969\n",
      "Epoch 98/100\n",
      "50000/50000 [==============================] - 5s 96us/step - loss: 0.0126 - acc: 0.9965\n",
      "Epoch 99/100\n",
      "50000/50000 [==============================] - 5s 92us/step - loss: 0.0119 - acc: 0.9966\n",
      "Epoch 100/100\n",
      "50000/50000 [==============================] - 5s 92us/step - loss: 0.0111 - acc: 0.9966\n"
     ]
    },
    {
     "data": {
      "text/plain": [
       "<keras.callbacks.History at 0x15267713f60>"
      ]
     },
     "execution_count": 4,
     "metadata": {},
     "output_type": "execute_result"
    }
   ],
   "source": [
    "\n",
    "classifier=Sequential()\n",
    "\n",
    "#卷積組合\n",
    "classifier.add(Convolution2D(input_shape=(32,32,3),filters=32,\n",
    "                             kernel_size=(3,3),\n",
    "                             padding='same',\n",
    "                             activation='relu'))#32,3,3,input_shape=(32,32,3),activation='relu''\n",
    "\n",
    "classifier.add(BatchNormalization())\n",
    "\n",
    "#'''自己決定MaxPooling2D放在哪裡'''\n",
    "classifier.add(MaxPooling2D(pool_size=(2,2)))\n",
    "\n",
    "#卷積組合\n",
    "classifier.add(Convolution2D(filters=32,\n",
    "                             kernel_size=(3,3),\n",
    "                             padding='same',\n",
    "                             activation='relu'))\n",
    "classifier.add(BatchNormalization())\n",
    "\n",
    "#flatten\n",
    "classifier.add(Flatten())\n",
    "\n",
    "#FC\n",
    "classifier.add(Dense(100,activation='relu')) #output_dim=100,activation=relu\n",
    "\n",
    "#輸出\n",
    "classifier.add(Dense(10,activation='softmax'))\n",
    "\n",
    "##超過兩個就要選categorical_crossentrophy\n",
    "\n",
    "classifier.compile(optimizer = 'adam', loss = 'categorical_crossentropy', metrics = ['accuracy'])\n",
    "classifier.fit(x_train,y_train,batch_size=100,epochs=100)"
   ]
  },
  {
   "cell_type": "markdown",
   "metadata": {},
   "source": [
    "## 預測新圖片，輸入影像前處理要與訓練時相同\n",
    "#### ((X-mean)/(std+1e-7) ):這裡的mean跟std是訓練集的\n",
    "## 維度如下方示範"
   ]
  },
  {
   "cell_type": "code",
   "execution_count": 5,
   "metadata": {},
   "outputs": [
    {
     "data": {
      "text/plain": [
       "array([[1.3107541e-03, 5.7015936e-14, 3.3577983e-03, 9.9428248e-01,\n",
       "        1.0490124e-03, 4.0066895e-12, 5.5692855e-09, 2.3729685e-10,\n",
       "        4.7306808e-11, 2.3619612e-16]], dtype=float32)"
      ]
     },
     "execution_count": 5,
     "metadata": {},
     "output_type": "execute_result"
    }
   ],
   "source": [
    "input_example=(np.zeros(shape=(1,32,32,3))-mean_train)/(std_train+1e-7) \n",
    "classifier.predict(input_example)"
   ]
  },
  {
   "cell_type": "code",
   "execution_count": null,
   "metadata": {},
   "outputs": [],
   "source": []
  }
 ],
 "metadata": {
  "kernelspec": {
   "display_name": "Python 3",
   "language": "python",
   "name": "python3"
  },
  "language_info": {
   "codemirror_mode": {
    "name": "ipython",
    "version": 3
   },
   "file_extension": ".py",
   "mimetype": "text/x-python",
   "name": "python",
   "nbconvert_exporter": "python",
   "pygments_lexer": "ipython3",
   "version": "3.7.3"
  }
 },
 "nbformat": 4,
 "nbformat_minor": 2
}
